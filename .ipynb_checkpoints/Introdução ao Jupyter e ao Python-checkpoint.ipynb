{
 "cells": [
  {
   "cell_type": "markdown",
   "metadata": {},
   "source": [
    "# Jupyter Notebook"
   ]
  },
  {
   "cell_type": "markdown",
   "metadata": {},
   "source": [
    "## Literal Programming"
   ]
  },
  {
   "cell_type": "markdown",
   "metadata": {},
   "source": [
    "O conceito de programação literária introduzido por Donald Knuth [[1](#proglit)] introduz a ideia de que os códigos dos programas devem ser o mais passíveis de serem lidos o possível. Dessa forma, a identificação de bugs, o compartilhamento de algoritmos com outros usuários e o próprio ensino se tornam mais simples e direto. \n",
    "\n",
    "A ideia de conciliar códigos com texto pode ser encarado como uma extensão dessa ideia, não só o código em si seria passível de ser lido como também trechos mais complexos poderiam ser explicados através de trechos de texto. Conforme a linguagem python se estabeleceu como uma das mais prolíficas e universais linguagens no ramo da ciência o conceito de *\"Notebook\"* (local onde o cientista anota hipóteses, observações e resultados) originou a ideia de se criar um ambiente no qual se possa realizar analises computacionais, registrar hipóteses, resultados, ideias, explicar trechos de códigos e etc. Dessa forma uma excelente ferramenta é o Jupyter Notebook, onde não só texto, como fórmulas matemáticas ($f(x) = k_0 e^{-x}$), imagens e vídeos podem ser colocados em um único arquivo."
   ]
  },
  {
   "cell_type": "markdown",
   "metadata": {},
   "source": [
    "## Vantagens"
   ]
  },
  {
   "cell_type": "markdown",
   "metadata": {},
   "source": [
    "Como principal vantagem, o notebook se torna um arquivo no qual toda a análise se resume. Dado que seja bem construído, ele pode considerar referências para outros usuários ou para si mesmo para recordar como cada componente deveria se comportar.\n",
    "\n",
    "Porém não é só isso, o fato de python ser uma linguagem que não necessita de pré compilação unida de um ambiente no qual as váriaveis já declaradas são armazenadas no kernel, permitem que o debug seja rápido e eficiente, sem contar que é o ambiente ideal para prototipar códigos rapidamente.\n",
    "\n",
    "Além disso, converter um notebook para pdf ou um arquivo .py tradicional é extremamente rápido e permite uma maior facilidade de compartilhar as análises.\n",
    "\n",
    "Por fim, a existência do Binder permite que se possa compartilhar ambientes virtuais no qual diferentes usuários podem repetir a mesma análise realizada, o que garante (parcialmente) a repetibilidade das análises, uma das principais características para a ciência."
   ]
  },
  {
   "cell_type": "markdown",
   "metadata": {},
   "source": [
    "## Cuidados"
   ]
  },
  {
   "cell_type": "markdown",
   "metadata": {},
   "source": [
    "A ideia da programação seria converter análises matemáticas em uma linguagem em que o computador entenda e realize as operações de forma correta da maneira mais eficiente (em termos de tempo, quantidade de linhas de comando, facilidade de input e output de dados) possível.\n",
    "\n",
    "Entretanto, quando se utiliza uma linguagem voltada ao objeto de nível tão elevado quanto python, é muito fácil deixar toda a parte de otimização e simplesmente fazer um código que resulte nos dados esperados.\n",
    "\n",
    "Tal abordagem pode resultar em códigos espagueti, isto é, altamente confusos e pouco generalizados. Embora no longo prazo seria importante criar e desenvolver o raciocínio lógico de forma que se possa de fato programar da maneira eficiente e correta, por hora tal formalidade pode ser deixada de lado e o foco ser em *\"get things done\"* [[2](#cowboy)]."
   ]
  },
  {
   "cell_type": "markdown",
   "metadata": {},
   "source": [
    "# Python"
   ]
  },
  {
   "cell_type": "markdown",
   "metadata": {},
   "source": [
    "## Hello World!"
   ]
  },
  {
   "cell_type": "markdown",
   "metadata": {},
   "source": [
    "Um clichê mas um belo ponto de partida:"
   ]
  },
  {
   "cell_type": "code",
   "execution_count": 4,
   "metadata": {
    "ExecuteTime": {
     "end_time": "2018-10-02T00:18:57.446631Z",
     "start_time": "2018-10-02T00:18:57.442660Z"
    }
   },
   "outputs": [
    {
     "name": "stdout",
     "output_type": "stream",
     "text": [
      "Hello World!\n"
     ]
    }
   ],
   "source": [
    "print('Hello World!')"
   ]
  },
  {
   "cell_type": "markdown",
   "metadata": {},
   "source": [
    "Porém, em jupyter, muitas vezes não é necessário usar a função print, é possível apenas executar a célula (\"Shift-Enter\")"
   ]
  },
  {
   "cell_type": "code",
   "execution_count": 3,
   "metadata": {
    "ExecuteTime": {
     "end_time": "2018-10-02T00:18:23.879532Z",
     "start_time": "2018-10-02T00:18:23.872167Z"
    }
   },
   "outputs": [
    {
     "data": {
      "text/plain": [
       "'Hello World!'"
      ]
     },
     "execution_count": 3,
     "metadata": {},
     "output_type": "execute_result"
    }
   ],
   "source": [
    "'Hello World!'"
   ]
  },
  {
   "cell_type": "markdown",
   "metadata": {},
   "source": [
    "## Listas"
   ]
  },
  {
   "cell_type": "markdown",
   "metadata": {},
   "source": [
    "Listas são sequências ordenadas de vlaores, é possível manipular uma lista de diferentes formas:"
   ]
  },
  {
   "cell_type": "code",
   "execution_count": 3,
   "metadata": {
    "ExecuteTime": {
     "end_time": "2018-10-02T23:37:01.164773Z",
     "start_time": "2018-10-02T23:37:01.152256Z"
    }
   },
   "outputs": [
    {
     "data": {
      "text/plain": [
       "[1, 2, 3, 4, 5]"
      ]
     },
     "execution_count": 3,
     "metadata": {},
     "output_type": "execute_result"
    }
   ],
   "source": [
    "lista = [1, 2, 3, 4, 5]\n",
    "lista"
   ]
  },
  {
   "cell_type": "code",
   "execution_count": 4,
   "metadata": {
    "ExecuteTime": {
     "end_time": "2018-10-02T23:37:01.754757Z",
     "start_time": "2018-10-02T23:37:01.746495Z"
    }
   },
   "outputs": [
    {
     "data": {
      "text/plain": [
       "[1, 2]"
      ]
     },
     "execution_count": 4,
     "metadata": {},
     "output_type": "execute_result"
    }
   ],
   "source": [
    "lista[:2]"
   ]
  },
  {
   "cell_type": "code",
   "execution_count": 5,
   "metadata": {
    "ExecuteTime": {
     "end_time": "2018-10-02T23:37:02.059068Z",
     "start_time": "2018-10-02T23:37:02.050679Z"
    }
   },
   "outputs": [
    {
     "data": {
      "text/plain": [
       "[1, 2, 3, 4, 5, 6]"
      ]
     },
     "execution_count": 5,
     "metadata": {},
     "output_type": "execute_result"
    }
   ],
   "source": [
    "lista + [6]"
   ]
  },
  {
   "cell_type": "code",
   "execution_count": 6,
   "metadata": {
    "ExecuteTime": {
     "end_time": "2018-10-02T23:37:02.347603Z",
     "start_time": "2018-10-02T23:37:02.342456Z"
    }
   },
   "outputs": [
    {
     "data": {
      "text/plain": [
       "1"
      ]
     },
     "execution_count": 6,
     "metadata": {},
     "output_type": "execute_result"
    }
   ],
   "source": [
    "lista[lista==2]"
   ]
  },
  {
   "cell_type": "markdown",
   "metadata": {},
   "source": [
    "## Loops"
   ]
  },
  {
   "cell_type": "markdown",
   "metadata": {},
   "source": [
    "Há duas formas para realizar loops em python. Uma delas é a forma clássica, iniciando um trecho de código que deve ser repetido n vezes. "
   ]
  },
  {
   "cell_type": "code",
   "execution_count": 1,
   "metadata": {
    "ExecuteTime": {
     "end_time": "2018-10-02T23:35:48.415084Z",
     "start_time": "2018-10-02T23:35:48.406139Z"
    }
   },
   "outputs": [
    {
     "name": "stdout",
     "output_type": "stream",
     "text": [
      "0\n",
      "1\n",
      "2\n",
      "3\n",
      "4\n"
     ]
    }
   ],
   "source": [
    "for i in range(5):\n",
    "    print(i)"
   ]
  },
  {
   "cell_type": "markdown",
   "metadata": {},
   "source": [
    "Porém, não é necessário iterar sobre uma sequência de números, podemos iterar sobre cada valor de uma lista:"
   ]
  },
  {
   "cell_type": "code",
   "execution_count": 7,
   "metadata": {
    "ExecuteTime": {
     "end_time": "2018-10-02T23:37:04.337906Z",
     "start_time": "2018-10-02T23:37:04.333286Z"
    },
    "scrolled": true
   },
   "outputs": [
    {
     "name": "stdout",
     "output_type": "stream",
     "text": [
      "1\n",
      "2\n",
      "3\n",
      "4\n",
      "5\n"
     ]
    }
   ],
   "source": [
    "for i in lista:\n",
    "    print(i)"
   ]
  },
  {
   "cell_type": "markdown",
   "metadata": {},
   "source": [
    "Além disso, a segunda maneira de fazer um loop é compactar ele em uma única linha:"
   ]
  },
  {
   "cell_type": "code",
   "execution_count": 8,
   "metadata": {
    "ExecuteTime": {
     "end_time": "2018-10-02T23:38:06.101540Z",
     "start_time": "2018-10-02T23:38:06.094215Z"
    }
   },
   "outputs": [
    {
     "name": "stdout",
     "output_type": "stream",
     "text": [
      "1\n",
      "2\n",
      "3\n",
      "4\n",
      "5\n"
     ]
    },
    {
     "data": {
      "text/plain": [
       "[None, None, None, None, None]"
      ]
     },
     "execution_count": 8,
     "metadata": {},
     "output_type": "execute_result"
    }
   ],
   "source": [
    "[print(i) for i in lista]"
   ]
  },
  {
   "cell_type": "markdown",
   "metadata": {},
   "source": [
    "Observe que ao contrário do loop tradicional, o loop compacto (chamado de *\"list comprehension\"*) retorna uma lista vazia também. Isso nos indica que é muito comum criar listas com essa técnica:"
   ]
  },
  {
   "cell_type": "code",
   "execution_count": 9,
   "metadata": {
    "ExecuteTime": {
     "end_time": "2018-10-02T23:40:42.334506Z",
     "start_time": "2018-10-02T23:40:42.326858Z"
    }
   },
   "outputs": [
    {
     "name": "stdout",
     "output_type": "stream",
     "text": [
      "[3, 4, 5, 6, 7]\n"
     ]
    }
   ],
   "source": [
    "lista_2 = [i+2 for i in lista]\n",
    "print(lista_2)"
   ]
  },
  {
   "cell_type": "markdown",
   "metadata": {},
   "source": [
    "## Dicionários"
   ]
  },
  {
   "cell_type": "markdown",
   "metadata": {},
   "source": [
    "Muitas vezes, queremos organizar informações diferentes de um mesmo objeto. Por exemplo tomemos uma lista de propriedades de uma liga metálica qualquer, o alumínio 6061 [[3](#6601)]:\n",
    "\n",
    "\n",
    "| Propriedade | Valor | \n",
    "|-------------------- | \n",
    "| Dureza Brinell | 93 [-] | \n",
    "| Módulo de Young| 69 [GPa] | \n",
    "| Módulo de Cisalhamento | 26 [GPa] |\n",
    "| Tensão de ruptura | 310 [MPa] |\n",
    "| Temperatura de fusão | 650 [°C] |\n",
    "| Condutividade térmica | 170 [W/(mK)] |\n",
    "| Expansão térmica | 24 [$\\mu$m/m K] |\n",
    "| Propriedade Óticas | Brilhante e opaco |"
   ]
  },
  {
   "cell_type": "code",
   "execution_count": 16,
   "metadata": {
    "ExecuteTime": {
     "end_time": "2018-10-02T23:52:55.160948Z",
     "start_time": "2018-10-02T23:52:55.155243Z"
    }
   },
   "outputs": [],
   "source": [
    "al_6061 = {'Hb':93, 'E':69, 'G':26, 'sigma':310, 'Tm':650, 'k':170,\n",
    "           'alpha':24, 'otics': 'Brilhante e opaco'}"
   ]
  },
  {
   "cell_type": "code",
   "execution_count": 17,
   "metadata": {
    "ExecuteTime": {
     "end_time": "2018-10-02T23:52:57.412283Z",
     "start_time": "2018-10-02T23:52:57.404144Z"
    }
   },
   "outputs": [
    {
     "data": {
      "text/plain": [
       "93"
      ]
     },
     "execution_count": 17,
     "metadata": {},
     "output_type": "execute_result"
    }
   ],
   "source": [
    "al_6061['Hb']"
   ]
  },
  {
   "cell_type": "code",
   "execution_count": 18,
   "metadata": {
    "ExecuteTime": {
     "end_time": "2018-10-02T23:52:57.785209Z",
     "start_time": "2018-10-02T23:52:57.778346Z"
    }
   },
   "outputs": [
    {
     "data": {
      "text/plain": [
       "dict_keys(['Hb', 'E', 'G', 'sigma', 'Tm', 'k', 'alpha', 'otics'])"
      ]
     },
     "execution_count": 18,
     "metadata": {},
     "output_type": "execute_result"
    }
   ],
   "source": [
    "al_6061.keys()"
   ]
  },
  {
   "cell_type": "code",
   "execution_count": 19,
   "metadata": {
    "ExecuteTime": {
     "end_time": "2018-10-02T23:52:58.001195Z",
     "start_time": "2018-10-02T23:52:57.995200Z"
    }
   },
   "outputs": [
    {
     "data": {
      "text/plain": [
       "dict_values([93, 69, 26, 310, 650, 170, 24, 'Brilhante e opaco'])"
      ]
     },
     "execution_count": 19,
     "metadata": {},
     "output_type": "execute_result"
    }
   ],
   "source": [
    "al_6061.values()"
   ]
  },
  {
   "cell_type": "markdown",
   "metadata": {},
   "source": [
    "## Funções"
   ]
  },
  {
   "cell_type": "markdown",
   "metadata": {},
   "source": [
    "Podemos desejar criar uma função, que nada mais é que uma \"máquina\" que você fornece um *input* e ela lhe retorna um *output*.\n",
    "Em python, podemos criar facilmente, tomemos uma função simples, $f(x) = x^2 + x + 5$.\n"
   ]
  },
  {
   "cell_type": "code",
   "execution_count": 23,
   "metadata": {
    "ExecuteTime": {
     "end_time": "2018-10-02T23:55:52.791641Z",
     "start_time": "2018-10-02T23:55:52.787745Z"
    }
   },
   "outputs": [],
   "source": [
    "def f(x):\n",
    "    return x**2+x+4"
   ]
  },
  {
   "cell_type": "code",
   "execution_count": 24,
   "metadata": {
    "ExecuteTime": {
     "end_time": "2018-10-02T23:55:52.930257Z",
     "start_time": "2018-10-02T23:55:52.924969Z"
    }
   },
   "outputs": [
    {
     "data": {
      "text/plain": [
       "10"
      ]
     },
     "execution_count": 24,
     "metadata": {},
     "output_type": "execute_result"
    }
   ],
   "source": [
    "f(2)"
   ]
  },
  {
   "cell_type": "markdown",
   "metadata": {},
   "source": [
    "Podemos ter parâmetros setados em um default numa função, isto é, a menos que o usuário da ferramenta específique, o parâmetro terá um valor específico."
   ]
  },
  {
   "cell_type": "code",
   "execution_count": 26,
   "metadata": {
    "ExecuteTime": {
     "end_time": "2018-10-02T23:57:11.164804Z",
     "start_time": "2018-10-02T23:57:11.159461Z"
    }
   },
   "outputs": [],
   "source": [
    "def f(x, c=4):\n",
    "    return x**2 + x + c"
   ]
  },
  {
   "cell_type": "code",
   "execution_count": 27,
   "metadata": {
    "ExecuteTime": {
     "end_time": "2018-10-02T23:57:20.408412Z",
     "start_time": "2018-10-02T23:57:20.401099Z"
    }
   },
   "outputs": [
    {
     "data": {
      "text/plain": [
       "(10, 11)"
      ]
     },
     "execution_count": 27,
     "metadata": {},
     "output_type": "execute_result"
    }
   ],
   "source": [
    "f(2), f(2, c=5)"
   ]
  },
  {
   "cell_type": "markdown",
   "metadata": {},
   "source": [
    "## Classes"
   ]
  },
  {
   "cell_type": "markdown",
   "metadata": {},
   "source": [
    "Suponhamos agora que uma função depende de vários cálculos, vamos considerar um exemplo fictício:"
   ]
  },
  {
   "cell_type": "code",
   "execution_count": 29,
   "metadata": {
    "ExecuteTime": {
     "end_time": "2018-10-03T00:05:16.512619Z",
     "start_time": "2018-10-03T00:05:16.508134Z"
    }
   },
   "outputs": [],
   "source": [
    "def f(x, y):\n",
    "    a = 3 * y\n",
    "    return x**2 + x + a"
   ]
  },
  {
   "cell_type": "markdown",
   "metadata": {},
   "source": [
    "Porém, você gostaria de calcular apenas o valor de a. Nesse caso o uso de uma classe poderia ser uma ótima opção!"
   ]
  },
  {
   "cell_type": "code",
   "execution_count": 40,
   "metadata": {
    "ExecuteTime": {
     "end_time": "2018-10-03T00:10:13.845992Z",
     "start_time": "2018-10-03T00:10:13.840679Z"
    }
   },
   "outputs": [],
   "source": [
    "class f_and_a:\n",
    "    def __init__(self, x, y):\n",
    "        self.x = x\n",
    "        self.y = y\n",
    "    def a(self):\n",
    "        return 3* self.y\n",
    "    def f(self):\n",
    "        return self.x**2 + self.x + self.a()\n"
   ]
  },
  {
   "cell_type": "code",
   "execution_count": 41,
   "metadata": {
    "ExecuteTime": {
     "end_time": "2018-10-03T00:10:14.065418Z",
     "start_time": "2018-10-03T00:10:14.057435Z"
    }
   },
   "outputs": [
    {
     "data": {
      "text/plain": [
       "(15, 21)"
      ]
     },
     "execution_count": 41,
     "metadata": {},
     "output_type": "execute_result"
    }
   ],
   "source": [
    "f_a = f_and_a(2, 5)\n",
    "f_a.a(), f_a.f()"
   ]
  },
  {
   "cell_type": "markdown",
   "metadata": {},
   "source": [
    "## Módulos Importantes"
   ]
  },
  {
   "cell_type": "markdown",
   "metadata": {},
   "source": [
    "### Numpy"
   ]
  },
  {
   "cell_type": "markdown",
   "metadata": {},
   "source": [
    "### Matplotlib"
   ]
  },
  {
   "cell_type": "markdown",
   "metadata": {},
   "source": [
    "### Pandas"
   ]
  },
  {
   "cell_type": "markdown",
   "metadata": {},
   "source": [
    "# Referências"
   ]
  },
  {
   "cell_type": "markdown",
   "metadata": {},
   "source": [
    "<a name=\"proglit\">1</a>: https://pt.wikipedia.org/wiki/Programa%C3%A7%C3%A3o_liter%C3%A1ria\n",
    "\n",
    "<a name=\"comboy\">2</a>: https://softwareengineering.stackexchange.com/a/7285\n",
    "\n",
    "<a name=\"6601\">3</a>: https://www.makeitfrom.com/material-properties/6061-T6-Aluminum"
   ]
  },
  {
   "cell_type": "code",
   "execution_count": null,
   "metadata": {},
   "outputs": [],
   "source": []
  }
 ],
 "metadata": {
  "hide_input": false,
  "kernelspec": {
   "display_name": "Python 3",
   "language": "python",
   "name": "python3"
  },
  "language_info": {
   "codemirror_mode": {
    "name": "ipython",
    "version": 3
   },
   "file_extension": ".py",
   "mimetype": "text/x-python",
   "name": "python",
   "nbconvert_exporter": "python",
   "pygments_lexer": "ipython3",
   "version": "3.6.5"
  },
  "toc": {
   "nav_menu": {},
   "number_sections": true,
   "sideBar": true,
   "skip_h1_title": false,
   "title_cell": "Table of Contents",
   "title_sidebar": "Contents",
   "toc_cell": false,
   "toc_position": {},
   "toc_section_display": true,
   "toc_window_display": false
  },
  "varInspector": {
   "cols": {
    "lenName": 16,
    "lenType": 16,
    "lenVar": 40
   },
   "kernels_config": {
    "python": {
     "delete_cmd_postfix": "",
     "delete_cmd_prefix": "del ",
     "library": "var_list.py",
     "varRefreshCmd": "print(var_dic_list())"
    },
    "r": {
     "delete_cmd_postfix": ") ",
     "delete_cmd_prefix": "rm(",
     "library": "var_list.r",
     "varRefreshCmd": "cat(var_dic_list()) "
    }
   },
   "types_to_exclude": [
    "module",
    "function",
    "builtin_function_or_method",
    "instance",
    "_Feature"
   ],
   "window_display": false
  }
 },
 "nbformat": 4,
 "nbformat_minor": 2
}
