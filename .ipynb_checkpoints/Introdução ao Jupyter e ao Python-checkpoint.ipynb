{
 "cells": [
  {
   "cell_type": "markdown",
   "metadata": {},
   "source": [
    "# Jupyter Notebook"
   ]
  },
  {
   "cell_type": "markdown",
   "metadata": {},
   "source": [
    "## Literal Programming"
   ]
  },
  {
   "cell_type": "markdown",
   "metadata": {},
   "source": [
    "O conceito de programação literária introduzido por Donald Knuth [[1](#proglit)] introduz a ideia de que os códigos dos programas devem ser o mais passíveis de serem lidos o possível. Dessa forma, a identificação de bugs, o compartilhamento de algoritmos com outros usuários e o próprio ensino se tornam mais simples e direto. \n",
    "\n",
    "A ideia de conciliar códigos com texto pode ser encarado como uma extensão dessa ideia, não só o código em si seria passível de ser lido como também trechos mais complexos poderiam ser explicados através de trechos de texto. Conforme a linguagem python se estabeleceu como uma das mais prolíficas e universais linguagens no ramo da ciência o conceito de *\"Notebook\"* (local onde o cientista anota hipóteses, observações e resultados) originou a ideia de se criar um ambiente no qual se possa realizar analises computacionais, registrar hipóteses, resultados, ideias, explicar trechos de códigos e etc. Dessa forma uma excelente ferramenta é o Jupyter Notebook, onde não só texto, como fórmulas matemáticas ($f(x) = k_0 e^{-x}$), imagens e vídeos podem ser colocados em um único arquivo."
   ]
  },
  {
   "cell_type": "markdown",
   "metadata": {},
   "source": [
    "## Vantagens"
   ]
  },
  {
   "cell_type": "markdown",
   "metadata": {},
   "source": [
    "Como principal vantagem, o notebook se torna um arquivo no qual toda a análise se resume. Dado que seja bem construído, ele pode considerar referências para outros usuários ou para si mesmo para recordar como cada componente deveria se comportar.\n",
    "\n",
    "Porém não é só isso, o fato de python ser uma linguagem que não necessita de pré compilação unida de um ambiente no qual as váriaveis já declaradas são armazenadas no kernel, permitem que o debug seja rápido e eficiente, sem contar que é o ambiente ideal para prototipar códigos rapidamente.\n",
    "\n",
    "Além disso, converter um notebook para pdf ou um arquivo .py tradicional é extremamente rápido e permite uma maior facilidade de compartilhar as análises.\n",
    "\n",
    "Por fim, a existência do Binder permite que se possa compartilhar ambientes virtuais no qual diferentes usuários podem repetir a mesma análise realizada, o que garante (parcialmente) a repetibilidade das análises, uma das principais características para a ciência."
   ]
  },
  {
   "cell_type": "markdown",
   "metadata": {},
   "source": [
    "## Cuidados"
   ]
  },
  {
   "cell_type": "markdown",
   "metadata": {},
   "source": [
    "A ideia da programação seria converter análises matemáticas em uma linguagem em que o computador entenda e realize as operações de forma correta da maneira mais eficiente (em termos de tempo, quantidade de linhas de comando, facilidade de input e output de dados) possível.\n",
    "\n",
    "Entretanto, quando se utiliza uma linguagem voltada ao objeto de nível tão elevado quanto python, é muito fácil deixar toda a parte de otimização e simplesmente fazer um código que resulte nos dados esperados.\n",
    "\n",
    "Tal abordagem pode resultar em códigos espagueti, isto é, altamente confusos e pouco generalizados. Embora no longo prazo seria importante criar e desenvolver o raciocínio lógico de forma que se possa de fato programar da maneira eficiente e correta, por hora tal formalidade pode ser deixada de lado e o foco ser em *\"get things done\"* [[2](#cowboy)]."
   ]
  },
  {
   "cell_type": "markdown",
   "metadata": {},
   "source": [
    "# Python"
   ]
  },
  {
   "cell_type": "markdown",
   "metadata": {},
   "source": [
    "## Hello World!"
   ]
  },
  {
   "cell_type": "markdown",
   "metadata": {},
   "source": [
    "Um clichê mas um belo ponto de partida:"
   ]
  },
  {
   "cell_type": "code",
   "execution_count": 4,
   "metadata": {
    "ExecuteTime": {
     "end_time": "2018-10-02T00:18:57.446631Z",
     "start_time": "2018-10-02T00:18:57.442660Z"
    }
   },
   "outputs": [
    {
     "name": "stdout",
     "output_type": "stream",
     "text": [
      "Hello World!\n"
     ]
    }
   ],
   "source": [
    "print('Hello World!')"
   ]
  },
  {
   "cell_type": "markdown",
   "metadata": {},
   "source": [
    "Porém, em jupyter, muitas vezes não é necessário usar a função print, é possível apenas executar a célula (\"Shift-Enter\")"
   ]
  },
  {
   "cell_type": "code",
   "execution_count": 3,
   "metadata": {
    "ExecuteTime": {
     "end_time": "2018-10-02T00:18:23.879532Z",
     "start_time": "2018-10-02T00:18:23.872167Z"
    }
   },
   "outputs": [
    {
     "data": {
      "text/plain": [
       "'Hello World!'"
      ]
     },
     "execution_count": 3,
     "metadata": {},
     "output_type": "execute_result"
    }
   ],
   "source": [
    "'Hello World!'"
   ]
  },
  {
   "cell_type": "markdown",
   "metadata": {},
   "source": [
    "## Listas"
   ]
  },
  {
   "cell_type": "markdown",
   "metadata": {},
   "source": [
    "Listas são sequências ordenadas de vlaores, é possível manipular uma lista de diferentes formas:"
   ]
  },
  {
   "cell_type": "code",
   "execution_count": 1,
   "metadata": {
    "ExecuteTime": {
     "end_time": "2018-10-02T00:18:02.768654Z",
     "start_time": "2018-10-02T00:18:02.755023Z"
    }
   },
   "outputs": [
    {
     "data": {
      "text/plain": [
       "[1, 2, 3, 4, 5]"
      ]
     },
     "execution_count": 1,
     "metadata": {},
     "output_type": "execute_result"
    }
   ],
   "source": [
    "lista = [1, 2, 3, 4, 5]\n",
    "lista"
   ]
  },
  {
   "cell_type": "code",
   "execution_count": 5,
   "metadata": {
    "ExecuteTime": {
     "end_time": "2018-10-02T00:20:33.856059Z",
     "start_time": "2018-10-02T00:20:33.848111Z"
    }
   },
   "outputs": [
    {
     "data": {
      "text/plain": [
       "[1, 2]"
      ]
     },
     "execution_count": 5,
     "metadata": {},
     "output_type": "execute_result"
    }
   ],
   "source": [
    "lista[:2]"
   ]
  },
  {
   "cell_type": "code",
   "execution_count": 6,
   "metadata": {
    "ExecuteTime": {
     "end_time": "2018-10-02T00:20:44.406366Z",
     "start_time": "2018-10-02T00:20:44.399724Z"
    }
   },
   "outputs": [
    {
     "data": {
      "text/plain": [
       "[1, 2, 3, 4, 5, 6]"
      ]
     },
     "execution_count": 6,
     "metadata": {},
     "output_type": "execute_result"
    }
   ],
   "source": [
    "lista + [6]"
   ]
  },
  {
   "cell_type": "code",
   "execution_count": 7,
   "metadata": {
    "ExecuteTime": {
     "end_time": "2018-10-02T00:21:06.401508Z",
     "start_time": "2018-10-02T00:21:06.394667Z"
    }
   },
   "outputs": [
    {
     "data": {
      "text/plain": [
       "1"
      ]
     },
     "execution_count": 7,
     "metadata": {},
     "output_type": "execute_result"
    }
   ],
   "source": [
    "lista[lista==2]"
   ]
  },
  {
   "cell_type": "markdown",
   "metadata": {},
   "source": [
    "## Loops"
   ]
  },
  {
   "cell_type": "markdown",
   "metadata": {},
   "source": [
    "## Dicionários"
   ]
  },
  {
   "cell_type": "markdown",
   "metadata": {},
   "source": [
    "## Funções"
   ]
  },
  {
   "cell_type": "markdown",
   "metadata": {},
   "source": [
    "## Classes"
   ]
  },
  {
   "cell_type": "markdown",
   "metadata": {},
   "source": [
    "## Módulos Importantes"
   ]
  },
  {
   "cell_type": "markdown",
   "metadata": {},
   "source": [
    "### Numpy"
   ]
  },
  {
   "cell_type": "markdown",
   "metadata": {},
   "source": [
    "### Matplotlib"
   ]
  },
  {
   "cell_type": "markdown",
   "metadata": {},
   "source": [
    "### Pandas"
   ]
  },
  {
   "cell_type": "markdown",
   "metadata": {},
   "source": [
    "# Referências"
   ]
  },
  {
   "cell_type": "markdown",
   "metadata": {},
   "source": [
    "<a name=\"proglit\">1</a>: https://pt.wikipedia.org/wiki/Programa%C3%A7%C3%A3o_liter%C3%A1ria\n",
    "\n",
    "<a name=\"comboy\">2</a>: https://softwareengineering.stackexchange.com/a/7285"
   ]
  },
  {
   "cell_type": "code",
   "execution_count": null,
   "metadata": {},
   "outputs": [],
   "source": []
  }
 ],
 "metadata": {
  "hide_input": false,
  "kernelspec": {
   "display_name": "Python 3",
   "language": "python",
   "name": "python3"
  },
  "language_info": {
   "codemirror_mode": {
    "name": "ipython",
    "version": 3
   },
   "file_extension": ".py",
   "mimetype": "text/x-python",
   "name": "python",
   "nbconvert_exporter": "python",
   "pygments_lexer": "ipython3",
   "version": "3.6.5"
  },
  "toc": {
   "nav_menu": {},
   "number_sections": true,
   "sideBar": true,
   "skip_h1_title": false,
   "title_cell": "Table of Contents",
   "title_sidebar": "Contents",
   "toc_cell": false,
   "toc_position": {},
   "toc_section_display": true,
   "toc_window_display": false
  },
  "varInspector": {
   "cols": {
    "lenName": 16,
    "lenType": 16,
    "lenVar": 40
   },
   "kernels_config": {
    "python": {
     "delete_cmd_postfix": "",
     "delete_cmd_prefix": "del ",
     "library": "var_list.py",
     "varRefreshCmd": "print(var_dic_list())"
    },
    "r": {
     "delete_cmd_postfix": ") ",
     "delete_cmd_prefix": "rm(",
     "library": "var_list.r",
     "varRefreshCmd": "cat(var_dic_list()) "
    }
   },
   "types_to_exclude": [
    "module",
    "function",
    "builtin_function_or_method",
    "instance",
    "_Feature"
   ],
   "window_display": false
  }
 },
 "nbformat": 4,
 "nbformat_minor": 2
}
