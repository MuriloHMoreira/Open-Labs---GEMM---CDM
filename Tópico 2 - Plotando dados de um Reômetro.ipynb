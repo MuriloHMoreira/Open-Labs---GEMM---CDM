{
  "cells": [
    {
      "cell_type": "markdown",
      "source": [
        "# Microrevisão de reologia"
      ],
      "metadata": {}
    },
    {
      "cell_type": "markdown",
      "source": [
        "Reologia pode ser descrita como o estudo das deformações e dos fluxos de fluídos complexos (Polímeros, suspensões, pastas, géis...). Os fluídos considerados simples, por outro lado, são estudados na área de fluido-dinâmica [[1](#Rheology)]. \n",
        "\nÉ uma disciplina extremamente complexa onde a maioria dos requisitos matemáticos e físicos não são facilmente entendidos pelos alunos. Na prática, é um nicho do conhecimento perigoso pois raras vezes seu conhecimento é testado por alguém que realmente é especialista na área e portanto é fundamental que as análises sejam claras, objetivas e diretas."
      ],
      "metadata": {}
    },
    {
      "cell_type": "markdown",
      "source": [
        "## Tipos de substâncias"
      ],
      "metadata": {}
    },
    {
      "cell_type": "markdown",
      "source": [
        "Em geral, as substâncias podem ter distintos comportamentos quando analisado a sua curva de tensão de cisalhamento por taxa de cisalhamento. Os principais tipos são mostrados na Figura 1."
      ],
      "metadata": {}
    },
    {
      "cell_type": "markdown",
      "source": [
        "![Types of Fluids](./images/types_of_fluids.png \"Tipos de fluidos\")\n",
        "\n**Figura 1: ** Tipos de fluídos identificados através de uma curva Tensão de Cisalhamento $\\tau$, por Taxa de cisalhamento, $\\gamma$."
      ],
      "metadata": {}
    },
    {
      "cell_type": "markdown",
      "source": [
        "## Modelos do comportamento dos fluídos"
      ],
      "metadata": {}
    },
    {
      "cell_type": "markdown",
      "source": [
        "### Lei das Potências"
      ],
      "metadata": {}
    },
    {
      "cell_type": "markdown",
      "source": [
        "Quando se trata de resultados experimentais, a classificação de um fluído em algum dos grupos já apresentados não é tão simples e direta. Muitas vezes o comportamento de uma substância é uma sobreposição de tais comportamentos ideais e dessa forma é necessário ter um modelo matemático para poder correlacionar os resultados experimentais com os comportamentos e entidades físicas que regem o sistema. \n",
        "\n",
        "Um desses modelos é o modelo da Lei das Potências que descreve que a relação entre a Tensão de Cisalhamento, $\\tau$ e a Taxa de Cisalhamento, $\\dot{\\gamma}$ segue o seguinte modelo:\n",
        "\n",
        "\\begin{equation}\n",
        "\\tau = K \\dot{\\gamma}^n\n",
        "\\end{equation}"
      ],
      "metadata": {}
    },
    {
      "cell_type": "markdown",
      "source": [
        "Com tal modelo, podemos representar fluídos pseudoplásticos (n<1), dilatantes (n>1) ou newtonianos (n=1) dependendo do valor de n. "
      ],
      "metadata": {}
    },
    {
      "cell_type": "markdown",
      "source": [
        "### Fluído de Herschel–Bulkley"
      ],
      "metadata": {}
    },
    {
      "cell_type": "markdown",
      "source": [
        "O mais complicado desse modelo é relembrar o seu nome. A sua forma é muito próxima do modelo da lei das potências, porém adiciona-se um termo que permite a representação de um fluído de Bingham.\n",
        "\n\n",
        "\\begin{equation}\n",
        "\\tau = \\tau_0 + k \\dot{\\gamma}^n\n",
        "\\end{equation}"
      ],
      "metadata": {}
    },
    {
      "cell_type": "markdown",
      "source": [
        "## Reômetro de Vane"
      ],
      "metadata": {}
    },
    {
      "cell_type": "markdown",
      "source": [
        "O Rêometro de Vane é um equipamento que obtém os valores de tensão de cisalhamento através do torque necessário para rotacionar as pás a uma dada velocidade (proporcional a taxa de cisalhamento aplicada ao sistema). Essa geometria consiste em 4 pás perpendiculares e é apresentada na Figura 1."
      ],
      "metadata": {}
    },
    {
      "cell_type": "markdown",
      "source": [
        "![Vane Geometry](./images/vane1.png \"Geometria de Vane\")\n",
        "**Figura 2: ** Geometria do reômetro de vane."
      ],
      "metadata": {}
    },
    {
      "cell_type": "markdown",
      "source": [
        "![Vane Analysis](./images/vane2.png \"Ensaio de Vane\")\n",
        "\n**Figura 3: ** Ensaio usando um reômetro de Vane."
      ],
      "metadata": {}
    },
    {
      "cell_type": "markdown",
      "source": [
        "Para a análise do case study iremos fornecer ao rêometro um ciclo que irá aumentar a taxa de cisalhamento de $0 s^{-1}$ até $500 s^{-1}$\n",
        "\n",
        "![Flow Curve](./images/flowcurve.png \"Curva do material\")\n",
        "\n**Figura 3: ** Ensaio usando um reômetro de Vane."
      ],
      "metadata": {}
    },
    {
      "cell_type": "markdown",
      "source": [
        "## Case study: Envelhecimento de uma bentonita"
      ],
      "metadata": {}
    },
    {
      "cell_type": "markdown",
      "source": [
        "Os dados que trataremos a seguir são de diferentes amostras de Bentonitas, um tipo de argila com uma microestrutura tabular e dimensões submicrométricas. Tais características conferem plasticidade a esse material quando misturado com água. Os dados se tratam de uma argila Chinesa com diferentes quantidades de argila em água (30 wt%, 40 wt% e 50 wt%) em dois tempos (após a mistura e após duas semanas).\n",
        "\n",
        "Planilha de experimentos:\n",
        "\n\n",
        "|  -   | $t_0$ = 0 min | $t_1$ = 2 semanas |\n",
        "|------|---------------|-------------------|\n",
        "|30 wt%|       Ok      |         Ok        |\n",
        "|40 wt%|       Ok      |         Ok        |\n",
        "|50 wt%|       Ok      |         X         |\n",
        "\nOs experimento com 50 wt% após duas semanas se tornou tão viscoso que não foi possível realizar medidas devido a dificuldade em preencher o barril evitando bolhas."
      ],
      "metadata": {}
    },
    {
      "cell_type": "markdown",
      "source": [
        "# Pandas para ler os dados"
      ],
      "metadata": {}
    },
    {
      "cell_type": "markdown",
      "source": [
        "Primeiramente iremos carregar os dados usando o pandas."
      ],
      "metadata": {}
    },
    {
      "cell_type": "code",
      "source": [
        "import pandas as pd"
      ],
      "outputs": [],
      "execution_count": 2,
      "metadata": {
        "ExecuteTime": {
          "end_time": "2018-10-13T19:45:25.609467Z",
          "start_time": "2018-10-13T19:45:24.646607Z"
        }
      }
    },
    {
      "cell_type": "code",
      "source": [
        "t0_30 = pd.read_csv('./data/t0 - 30 wt%.csv', header=0, delimiter=',')\n",
        "t0_40 = pd.read_csv('./data/t0 - 40 wt%.csv', header=0, delimiter=',')\n",
        "t0_50_1 = pd.read_csv('./data/t0 - 50 wt% - 1.csv', header=0, delimiter=',')\n",
        "t0_50_2 = pd.read_csv('./data/t0 - 50 wt% - 2.csv', header=0, delimiter=',')\n",
        "\n",
        "t1_30 = pd.read_csv('./data/t1 - 30 wt%.csv', header=0, delimiter=',')\n",
        "t1_40 = pd.read_csv('./data/t1 - 40 wt%.csv', header=0, delimiter=',')\n"
      ],
      "outputs": [],
      "execution_count": 22,
      "metadata": {
        "ExecuteTime": {
          "end_time": "2018-10-13T19:57:46.563851Z",
          "start_time": "2018-10-13T19:57:46.546347Z"
        }
      }
    },
    {
      "cell_type": "code",
      "source": [
        "t0_30.head()"
      ],
      "outputs": [
        {
          "output_type": "execute_result",
          "execution_count": 23,
          "data": {
            "text/html": [
              "<div>\n",
              "<style scoped>\n",
              "    .dataframe tbody tr th:only-of-type {\n",
              "        vertical-align: middle;\n",
              "    }\n",
              "\n",
              "    .dataframe tbody tr th {\n",
              "        vertical-align: top;\n",
              "    }\n",
              "\n",
              "    .dataframe thead th {\n",
              "        text-align: right;\n",
              "    }\n",
              "</style>\n",
              "<table border=\"1\" class=\"dataframe\">\n",
              "  <thead>\n",
              "    <tr style=\"text-align: right;\">\n",
              "      <th></th>\n",
              "      <th>Shear stress(Pa)</th>\n",
              "      <th>Shear rate(s-¹)</th>\n",
              "      <th>Shear viscosity(Pa s)</th>\n",
              "      <th>Angular velocity(rad/s)</th>\n",
              "      <th>Steady state</th>\n",
              "    </tr>\n",
              "  </thead>\n",
              "  <tbody>\n",
              "    <tr>\n",
              "      <th>0</th>\n",
              "      <td>0.2104</td>\n",
              "      <td>1.214</td>\n",
              "      <td>0.1732</td>\n",
              "      <td>0.1053</td>\n",
              "      <td>0.9594</td>\n",
              "    </tr>\n",
              "    <tr>\n",
              "      <th>1</th>\n",
              "      <td>0.2543</td>\n",
              "      <td>1.529</td>\n",
              "      <td>0.1664</td>\n",
              "      <td>0.1325</td>\n",
              "      <td>0.9570</td>\n",
              "    </tr>\n",
              "    <tr>\n",
              "      <th>2</th>\n",
              "      <td>0.3122</td>\n",
              "      <td>1.924</td>\n",
              "      <td>0.1622</td>\n",
              "      <td>0.1668</td>\n",
              "      <td>0.9533</td>\n",
              "    </tr>\n",
              "    <tr>\n",
              "      <th>3</th>\n",
              "      <td>0.3857</td>\n",
              "      <td>2.423</td>\n",
              "      <td>0.1592</td>\n",
              "      <td>0.2100</td>\n",
              "      <td>0.9520</td>\n",
              "    </tr>\n",
              "    <tr>\n",
              "      <th>4</th>\n",
              "      <td>0.4768</td>\n",
              "      <td>3.049</td>\n",
              "      <td>0.1564</td>\n",
              "      <td>0.2643</td>\n",
              "      <td>0.9527</td>\n",
              "    </tr>\n",
              "  </tbody>\n",
              "</table>\n",
              "</div>"
            ],
            "text/plain": [
              "   Shear stress(Pa)  Shear rate(s-¹)  Shear viscosity(Pa s)  \\\n",
              "0            0.2104            1.214                 0.1732   \n",
              "1            0.2543            1.529                 0.1664   \n",
              "2            0.3122            1.924                 0.1622   \n",
              "3            0.3857            2.423                 0.1592   \n",
              "4            0.4768            3.049                 0.1564   \n",
              "\n",
              "   Angular velocity(rad/s)  Steady state  \n",
              "0                   0.1053        0.9594  \n",
              "1                   0.1325        0.9570  \n",
              "2                   0.1668        0.9533  \n",
              "3                   0.2100        0.9520  \n",
              "4                   0.2643        0.9527  "
            ]
          },
          "metadata": {}
        }
      ],
      "execution_count": 23,
      "metadata": {
        "ExecuteTime": {
          "end_time": "2018-10-13T19:57:48.022411Z",
          "start_time": "2018-10-13T19:57:48.011151Z"
        }
      }
    },
    {
      "cell_type": "markdown",
      "source": [
        "# Matplotlib para plotar"
      ],
      "metadata": {}
    },
    {
      "cell_type": "markdown",
      "source": [
        "Com os dados carregados, iremos plotar as curvas reoógicas com o matplotlib"
      ],
      "metadata": {}
    },
    {
      "cell_type": "code",
      "source": [
        "import matplotlib.pyplot as plt\n",
        "plt.style.use('default')\n"
      ],
      "outputs": [],
      "execution_count": 31,
      "metadata": {
        "ExecuteTime": {
          "end_time": "2018-10-13T20:03:44.884838Z",
          "start_time": "2018-10-13T20:03:44.876354Z"
        }
      }
    },
    {
      "cell_type": "code",
      "source": [
        "plt.plot(t0_30['Shear rate(s-¹)'] ,t0_30['Shear stress(Pa)'], c='Navy',\n",
        "         label='t0-30 wt%')\n",
        "\n",
        "plt.plot(t1_30['Shear rate(s-¹)'] ,t1_30['Shear stress(Pa)'], c='Navy',\n",
        "         ls='--', label='t1-30 wt%')\n",
        "\n\n",
        "plt.plot(t0_40['Shear rate(s-¹)'] ,t0_40['Shear stress(Pa)'], c='Lightskyblue',\n",
        "         label='t0-40 wt%')\n",
        "\n",
        "plt.plot(t1_40['Shear rate(s-¹)'] ,t1_40['Shear stress(Pa)'], c='Lightskyblue',\n",
        "         ls='--', label='t1-40 wt%')\n",
        "\n\n",
        "plt.plot(t0_50_1['Shear rate(s-¹)'] ,t0_50_1['Shear stress(Pa)'], c='Red',\n",
        "         label='t0-50-1 wt%')\n",
        "\n",
        "plt.plot(t0_50_2['Shear rate(s-¹)'] ,t0_50_2['Shear stress(Pa)'], c='Coral',\n",
        "         label='t0-50-2 wt%')\n",
        "\n\n",
        "plt.xlim(0, 500)\n",
        "plt.ylim(0, 1200)\n",
        "\n",
        "plt.xlabel('Shear rate (s-¹)')\n",
        "plt.ylabel('Shear stress (Pa)')\n",
        "\n",
        "plt.legend(ncol=3)\n",
        "plt.grid()\n",
        "\nplt.show()"
      ],
      "outputs": [
        {
          "output_type": "display_data",
          "data": {
            "image/png": "[encoded data removed]",
            "text/plain": [
              "<Figure size 640x480 with 1 Axes>"
            ]
          },
          "metadata": {}
        }
      ],
      "execution_count": 37,
      "metadata": {
        "ExecuteTime": {
          "end_time": "2018-10-13T20:05:11.647464Z",
          "start_time": "2018-10-13T20:05:11.348097Z"
        }
      }
    },
    {
      "cell_type": "markdown",
      "source": [
        "É possível observar que as curvas de composições de 40 wt% após duas semanas e a primeira medida da composição de 50 wt% apresentam um grande número de mudanças de concavidade das curvas. Esse é um claro indício da presença de bolhas o que adiciona um ruído ao resultado, portanto, para a próxima análise (de caráter mais quantitativo) tais composições serão desprezadas."
      ],
      "metadata": {}
    },
    {
      "cell_type": "markdown",
      "source": [
        "# lmfit para fittar"
      ],
      "metadata": {}
    },
    {
      "cell_type": "markdown",
      "source": [
        "## Como usar o lmfit"
      ],
      "metadata": {}
    },
    {
      "cell_type": "markdown",
      "source": [
        "Para realizar o fit das curvas com a lei das potências usaremos o pacote lmfit"
      ],
      "metadata": {}
    },
    {
      "cell_type": "code",
      "source": [
        "import lmfit as lm\n",
        "import numpy as np"
      ],
      "outputs": [],
      "execution_count": 60,
      "metadata": {
        "ExecuteTime": {
          "end_time": "2018-10-13T20:39:14.994726Z",
          "start_time": "2018-10-13T20:39:14.991739Z"
        }
      }
    },
    {
      "cell_type": "markdown",
      "source": [
        "Esse pacote funciona otimizando um modelo pré fornecido. Para isso precisaremos criar um modelo que siga as leis das potências e em seguida criar uma classe de modelo."
      ],
      "metadata": {}
    },
    {
      "cell_type": "code",
      "source": [
        "lei_potencias_log(t0_30['Shear rate(s-¹)'][:27], 5, 5, 5)"
      ],
      "outputs": [
        {
          "output_type": "execute_result",
          "execution_count": 68,
          "data": {
            "text/plain": [
              "0      4.188479\n",
              "1      5.341945\n",
              "2      6.490908\n",
              "3      7.643908\n",
              "4      8.792944\n",
              "5      9.943633\n",
              "6     11.095178\n",
              "7     12.259500\n",
              "8     13.410671\n",
              "9     14.561431\n",
              "10    15.721956\n",
              "11    16.874453\n",
              "12    18.032338\n",
              "13    19.181535\n",
              "14    20.338560\n",
              "15    21.494196\n",
              "16    22.649324\n",
              "17    23.800221\n",
              "18    24.950873\n",
              "19    26.102215\n",
              "20    27.251261\n",
              "21    28.403639\n",
              "22    29.553009\n",
              "23    30.704717\n",
              "24    31.856371\n",
              "25    33.007122\n",
              "26    34.158143\n",
              "Name: Shear rate(s-¹), dtype: float64"
            ]
          },
          "metadata": {}
        }
      ],
      "execution_count": 68,
      "metadata": {
        "ExecuteTime": {
          "end_time": "2018-10-13T20:44:00.367697Z",
          "start_time": "2018-10-13T20:44:00.360717Z"
        }
      }
    },
    {
      "cell_type": "code",
      "source": [
        "def lei_potencias(gamma, tau_0, k, n):\n",
        "    return  tau_0 + k*gamma**n\n",
        "\n",
        "lei_pot_mod = lm.Model(lei_potencias)\n"
      ],
      "outputs": [],
      "execution_count": 70,
      "metadata": {
        "ExecuteTime": {
          "end_time": "2018-10-13T20:50:35.171842Z",
          "start_time": "2018-10-13T20:50:35.168853Z"
        }
      }
    },
    {
      "cell_type": "markdown",
      "source": [
        "Para fitar, basta chamar o método fit e fornecer os dados para fitar. Precisamos lembrar que as nossas curvas apresentam tanto a ida quanto a volta, e portanto precisamos apenas da metade dos dados. Para descobrir a quantidade dos dados podemos acessar a variável shape dos nossos dataframes."
      ],
      "metadata": {}
    },
    {
      "cell_type": "code",
      "source": [
        "t0_30.shape"
      ],
      "outputs": [
        {
          "output_type": "execute_result",
          "execution_count": 71,
          "data": {
            "text/plain": [
              "(54, 5)"
            ]
          },
          "metadata": {}
        }
      ],
      "execution_count": 71,
      "metadata": {
        "ExecuteTime": {
          "end_time": "2018-10-13T20:50:36.403423Z",
          "start_time": "2018-10-13T20:50:36.398437Z"
        }
      }
    },
    {
      "cell_type": "markdown",
      "source": [
        "Portanto, temos 54 pontos ao total. Se pegarmos apenas até o ponto 27 teremos a ida."
      ],
      "metadata": {}
    },
    {
      "cell_type": "code",
      "source": [
        "t0_30_fit = lei_pot_mod.fit(t0_30['Shear stress(Pa)'][:27],\n",
        "                            gamma=t0_30['Shear rate(s-¹)'][:27],\n",
        "                            tau_0=5, k=5, n=5, )"
      ],
      "outputs": [],
      "execution_count": 72,
      "metadata": {
        "ExecuteTime": {
          "end_time": "2018-10-13T20:50:37.429448Z",
          "start_time": "2018-10-13T20:50:37.287173Z"
        }
      }
    },
    {
      "cell_type": "code",
      "source": [
        "print(t0_30_fit.fit_report())"
      ],
      "outputs": [
        {
          "output_type": "stream",
          "name": "stdout",
          "text": [
            "[[Model]]\n",
            "    Model(lei_potencias)\n",
            "[[Fit Statistics]]\n",
            "    # function evals   = 295\n",
            "    # data points      = 27\n",
            "    # variables        = 3\n",
            "    chi-square         = 0.504\n",
            "    reduced chi-square = 0.021\n",
            "    Akaike info crit   = -101.493\n",
            "    Bayesian info crit = -97.606\n",
            "[[Variables]]\n",
            "    tau_0:  -0.30004514 +/- 0.053630 (17.87%) (init= 5)\n",
            "    k:       0.28639053 +/- 0.007607 (2.66%) (init= 5)\n",
            "    n:       0.82208613 +/- 0.004377 (0.53%) (init= 5)\n",
            "[[Correlations]] (unreported correlations are <  0.100)\n",
            "    C(k, n)                      = -0.996 \n",
            "    C(tau_0, k)                  = -0.780 \n",
            "    C(tau_0, n)                  =  0.747 \n",
            "\n"
          ]
        }
      ],
      "execution_count": 73,
      "metadata": {
        "ExecuteTime": {
          "end_time": "2018-10-13T20:50:38.043243Z",
          "start_time": "2018-10-13T20:50:38.039284Z"
        }
      }
    },
    {
      "cell_type": "code",
      "source": [
        "plt.loglog(t0_30['Shear rate(s-¹)'][:27], t0_30['Shear stress(Pa)'][:27], 'bo')\n",
        "plt.loglog(t0_30['Shear rate(s-¹)'][:27], t0_30_fit.best_fit, 'r-')\n",
        "plt.grid()\n",
        "plt.show()"
      ],
      "outputs": [
        {
          "output_type": "display_data",
          "data": {
            "image/png": "[encoded data removed]",
            "text/plain": [
              "<Figure size 640x480 with 1 Axes>"
            ]
          },
          "metadata": {}
        }
      ],
      "execution_count": 74,
      "metadata": {
        "ExecuteTime": {
          "end_time": "2018-10-13T20:50:40.368835Z",
          "start_time": "2018-10-13T20:50:40.088375Z"
        }
      }
    },
    {
      "cell_type": "markdown",
      "source": [
        "## Sistematizando o uso do lmfit"
      ],
      "metadata": {}
    },
    {
      "cell_type": "code",
      "source": [
        "def batch_fit(df):\n",
        "    df_fit = lei_pot_mod.fit(df['Shear stress(Pa)'][:27],\n",
        "                            gamma=df['Shear rate(s-¹)'][:27],\n",
        "                            tau_0=5, k=5, n=5)\n",
        "    tau_0, k, n = df_fit.params.valuesdict().values()\n",
        "    r_sq = 1 - df_fit.residual.var() / np.var(df['Shear stress(Pa)'][:27]*100)\n",
        "    return df_fit, tau_0, k, n, r_sq"
      ],
      "outputs": [],
      "execution_count": 91,
      "metadata": {
        "ExecuteTime": {
          "end_time": "2018-10-13T20:59:48.410862Z",
          "start_time": "2018-10-13T20:59:48.405843Z"
        }
      }
    },
    {
      "cell_type": "code",
      "source": [
        "dfs = [t0_30, t0_40, t0_50_2, t1_30]\n",
        "labels = ['t0_30', 't0_40', 't0_50_2', 't1_30']\n",
        "fits = []\n",
        "tau_0s = []\n",
        "ks = []\n",
        "ns = []\n",
        "r_sqs = []\n",
        "for df in dfs:\n",
        "    df_fit, tau_0, k, n, r_sq = batch_fit(df)\n",
        "    fits.append(df_fit)\n",
        "    tau_0s.append(tau_0)\n",
        "    ks.append(k)\n",
        "    ns.append(n)\n",
        "    r_sqs.append(r_sq)"
      ],
      "outputs": [],
      "execution_count": 123,
      "metadata": {
        "ExecuteTime": {
          "end_time": "2018-10-13T21:16:48.937141Z",
          "start_time": "2018-10-13T21:16:48.435178Z"
        }
      }
    },
    {
      "cell_type": "code",
      "source": [
        "plt.style.use('default')\n",
        "f, axs = plt.subplots(2, 2)\n",
        "for ax, i, t in zip(axs.flatten(), range(len(dfs)), labels):\n",
        "    ax.loglog(dfs[i]['Shear rate(s-¹)'][:27], dfs[i]['Shear stress(Pa)'][:27],\n",
        "              'bo', label='Experimento')\n",
        "    ax.loglog(dfs[i]['Shear rate(s-¹)'][:27], fits[i].best_fit, label='Fit')\n",
        "    ax.loglog(dfs[i]['Shear rate(s-¹)'][:27], abs(fits[i].residual), '.', \n",
        "              label='Resíduo')\n",
        "    ax.grid()\n",
        "\n",
        "    ax.set_xlabel(r'$\\dot{\\gamma}$ [s$^{-1}$]')\n",
        "    ax.set_ylabel(r'$\\tau$ [Pa]' )\n",
        "    ax.set_xlim(1, 1000)\n",
        "    ax.set_title(t)\n",
        "    \n",
        "    \n",
        "\n",
        "plt.legend(loc='center left', bbox_to_anchor=(1, 0.75))\n",
        "plt.tight_layout()\n",
        "plt.show()"
      ],
      "outputs": [
        {
          "output_type": "display_data",
          "data": {
            "image/png": "[encoded data removed]",
            "text/plain": [
              "<Figure size 640x480 with 4 Axes>"
            ]
          },
          "metadata": {}
        }
      ],
      "execution_count": 173,
      "metadata": {
        "ExecuteTime": {
          "end_time": "2018-10-13T23:43:22.870618Z",
          "start_time": "2018-10-13T23:43:20.686433Z"
        }
      }
    },
    {
      "cell_type": "code",
      "source": [
        "resumo = pd.DataFrame({r'$\\tau_0$': tau_0s, 'k': ks, 'n': ns, 'r²': r_sqs},\n",
        "                      index=labels)"
      ],
      "outputs": [],
      "execution_count": 93,
      "metadata": {
        "ExecuteTime": {
          "end_time": "2018-10-13T21:00:21.289232Z",
          "start_time": "2018-10-13T21:00:21.285245Z"
        }
      }
    },
    {
      "cell_type": "code",
      "source": [
        "resumo"
      ],
      "outputs": [
        {
          "output_type": "execute_result",
          "execution_count": 94,
          "data": {
            "text/html": [
              "<div>\n",
              "<style scoped>\n",
              "    .dataframe tbody tr th:only-of-type {\n",
              "        vertical-align: middle;\n",
              "    }\n",
              "\n",
              "    .dataframe tbody tr th {\n",
              "        vertical-align: top;\n",
              "    }\n",
              "\n",
              "    .dataframe thead th {\n",
              "        text-align: right;\n",
              "    }\n",
              "</style>\n",
              "<table border=\"1\" class=\"dataframe\">\n",
              "  <thead>\n",
              "    <tr style=\"text-align: right;\">\n",
              "      <th></th>\n",
              "      <th>$\\tau_0$</th>\n",
              "      <th>k</th>\n",
              "      <th>n</th>\n",
              "      <th>r²</th>\n",
              "    </tr>\n",
              "  </thead>\n",
              "  <tbody>\n",
              "    <tr>\n",
              "      <th>t0_30</th>\n",
              "      <td>-0.300045</td>\n",
              "      <td>0.286391</td>\n",
              "      <td>0.822086</td>\n",
              "      <td>1.000000</td>\n",
              "    </tr>\n",
              "    <tr>\n",
              "      <th>t0_40</th>\n",
              "      <td>92.790643</td>\n",
              "      <td>8.513666</td>\n",
              "      <td>0.553112</td>\n",
              "      <td>1.000000</td>\n",
              "    </tr>\n",
              "    <tr>\n",
              "      <th>t0_50_2</th>\n",
              "      <td>64.028972</td>\n",
              "      <td>287.506506</td>\n",
              "      <td>0.183737</td>\n",
              "      <td>0.999999</td>\n",
              "    </tr>\n",
              "    <tr>\n",
              "      <th>t1_30</th>\n",
              "      <td>12.726889</td>\n",
              "      <td>16.516604</td>\n",
              "      <td>0.421807</td>\n",
              "      <td>1.000000</td>\n",
              "    </tr>\n",
              "  </tbody>\n",
              "</table>\n",
              "</div>"
            ],
            "text/plain": [
              "          $\\tau_0$           k         n        r²\n",
              "t0_30    -0.300045    0.286391  0.822086  1.000000\n",
              "t0_40    92.790643    8.513666  0.553112  1.000000\n",
              "t0_50_2  64.028972  287.506506  0.183737  0.999999\n",
              "t1_30    12.726889   16.516604  0.421807  1.000000"
            ]
          },
          "metadata": {}
        }
      ],
      "execution_count": 94,
      "metadata": {
        "ExecuteTime": {
          "end_time": "2018-10-13T21:00:21.834273Z",
          "start_time": "2018-10-13T21:00:21.825296Z"
        },
        "scrolled": false
      }
    },
    {
      "cell_type": "code",
      "source": [
        "plt.style.use('seaborn-colorblind')\n",
        "resumo.plot(kind='bar', logy=True)\n",
        "\n",
        "plt.ylabel('Valores [-]')\n",
        "plt.xticks(rotation=0)\n",
        "plt.show()"
      ],
      "outputs": [
        {
          "output_type": "display_data",
          "data": {
            "image/png": "[encoded data removed]",
            "text/plain": [
              "<Figure size 800x550 with 1 Axes>"
            ]
          },
          "metadata": {}
        }
      ],
      "execution_count": 177,
      "metadata": {
        "ExecuteTime": {
          "end_time": "2018-10-13T23:46:33.085305Z",
          "start_time": "2018-10-13T23:46:32.617733Z"
        }
      }
    },
    {
      "cell_type": "markdown",
      "source": [
        "# Referências"
      ],
      "metadata": {}
    },
    {
      "cell_type": "markdown",
      "source": [
        "<a name=\"Rheology\">1</a>: Faith A. Morrison, Understanding Rheology"
      ],
      "metadata": {}
    }
  ],
  "metadata": {
    "hide_input": false,
    "kernelspec": {
      "name": "python3",
      "language": "python",
      "display_name": "Python 3"
    },
    "language_info": {
      "name": "python",
      "version": "3.6.5",
      "mimetype": "text/x-python",
      "codemirror_mode": {
        "name": "ipython",
        "version": 3
      },
      "pygments_lexer": "ipython3",
      "nbconvert_exporter": "python",
      "file_extension": ".py"
    },
    "toc": {
      "toc_position": {},
      "skip_h1_title": false,
      "number_sections": true,
      "title_cell": "Table of Contents",
      "toc_window_display": false,
      "toc_section_display": true,
      "title_sidebar": "Contents",
      "toc_cell": false,
      "nav_menu": {},
      "sideBar": true
    },
    "varInspector": {
      "cols": {
        "lenName": 16,
        "lenType": 16,
        "lenVar": 40
      },
      "kernels_config": {
        "python": {
          "delete_cmd_postfix": "",
          "delete_cmd_prefix": "del ",
          "library": "var_list.py",
          "varRefreshCmd": "print(var_dic_list())"
        },
        "r": {
          "delete_cmd_postfix": ") ",
          "delete_cmd_prefix": "rm(",
          "library": "var_list.r",
          "varRefreshCmd": "cat(var_dic_list()) "
        }
      },
      "types_to_exclude": [
        "module",
        "function",
        "builtin_function_or_method",
        "instance",
        "_Feature"
      ],
      "window_display": false
    },
    "kernel_info": {
      "name": "python3"
    },
    "nteract": {
      "version": "0.9.1"
    }
  },
  "nbformat": 4,
  "nbformat_minor": 2
}