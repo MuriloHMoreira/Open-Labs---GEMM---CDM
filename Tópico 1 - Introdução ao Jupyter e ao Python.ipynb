{
 "cells": [
  {
   "cell_type": "markdown",
   "metadata": {},
   "source": [
    "# Jupyter Notebook"
   ]
  },
  {
   "cell_type": "markdown",
   "metadata": {},
   "source": [
    "## Literal Programming"
   ]
  },
  {
   "cell_type": "markdown",
   "metadata": {},
   "source": [
    "O conceito de programação literária introduzido por Donald Knuth [[1](#proglit)] introduz a ideia de que os códigos dos programas devem ser o mais passíveis de serem lidos o possível. Dessa forma, a identificação de bugs, o compartilhamento de algoritmos com outros usuários e o próprio ensino se tornam mais simples e direto. \n",
    "\n",
    "A ideia de conciliar códigos com texto pode ser encarado como uma extensão dessa ideia, não só o código em si seria passível de ser lido como também trechos mais complexos poderiam ser explicados através de trechos de texto. Conforme a linguagem python se estabeleceu como uma das mais prolíficas e universais linguagens no ramo da ciência o conceito de *\"Notebook\"* (local onde o cientista anota hipóteses, observações e resultados) originou a ideia de se criar um ambiente no qual se possa realizar analises computacionais, registrar hipóteses, resultados, ideias, explicar trechos de códigos e etc. Dessa forma uma excelente ferramenta é o Jupyter Notebook, onde não só texto, como fórmulas matemáticas ($f(x) = k_0 e^{-x}$), imagens e vídeos podem ser colocados em um único arquivo."
   ]
  },
  {
   "cell_type": "markdown",
   "metadata": {},
   "source": [
    "## Vantagens"
   ]
  },
  {
   "cell_type": "markdown",
   "metadata": {},
   "source": [
    "Como principal vantagem, o notebook se torna um arquivo no qual toda a análise se resume. Dado que seja bem construído, ele pode considerar referências para outros usuários ou para si mesmo para recordar como cada componente deveria se comportar.\n",
    "\n",
    "Porém não é só isso, o fato de python ser uma linguagem que não necessita de pré compilação unida de um ambiente no qual as váriaveis já declaradas são armazenadas no kernel, permitem que o debug seja rápido e eficiente, sem contar que é o ambiente ideal para prototipar códigos rapidamente.\n",
    "\n",
    "Além disso, converter um notebook para pdf ou um arquivo .py tradicional é extremamente rápido e permite uma maior facilidade de compartilhar as análises.\n",
    "\n",
    "Por fim, a existência do Binder permite que se possa compartilhar ambientes virtuais no qual diferentes usuários podem repetir a mesma análise realizada, o que garante (parcialmente) a repetibilidade das análises, uma das principais características para a ciência."
   ]
  },
  {
   "cell_type": "markdown",
   "metadata": {},
   "source": [
    "## Cuidados"
   ]
  },
  {
   "cell_type": "markdown",
   "metadata": {},
   "source": [
    "A ideia da programação seria converter análises matemáticas em uma linguagem em que o computador entenda e realize as operações de forma correta da maneira mais eficiente (em termos de tempo, quantidade de linhas de comando, facilidade de input e output de dados) possível.\n",
    "\n",
    "Entretanto, quando se utiliza uma linguagem voltada ao objeto de nível tão elevado quanto python, é muito fácil deixar toda a parte de otimização e simplesmente fazer um código que resulte nos dados esperados.\n",
    "\n",
    "Tal abordagem pode resultar em códigos espagueti, isto é, altamente confusos e pouco generalizados. Embora no longo prazo seria importante criar e desenvolver o raciocínio lógico de forma que se possa de fato programar da maneira eficiente e correta, por hora tal formalidade pode ser deixada de lado e o foco ser em *\"get things done\"* [[2](#cowboy)]."
   ]
  },
  {
   "cell_type": "markdown",
   "metadata": {},
   "source": [
    "# Python"
   ]
  },
  {
   "cell_type": "markdown",
   "metadata": {},
   "source": [
    "## Hello World!"
   ]
  },
  {
   "cell_type": "markdown",
   "metadata": {
    "ExecuteTime": {
     "end_time": "2018-10-18T17:20:34.210964Z",
     "start_time": "2018-10-18T17:20:34.205964Z"
    }
   },
   "source": [
    "Para executar uma célula basta clica \"Ctrl+Enter\" (ou \"Shift+Enter\" para executar a célula atual e seguir para a próxima).\n",
    "\n",
    "Um clichê mas que é um belo ponto de partida é rodar a seguinte célula:"
   ]
  },
  {
   "cell_type": "code",
   "execution_count": 4,
   "metadata": {
    "ExecuteTime": {
     "end_time": "2018-10-02T00:18:57.446631Z",
     "start_time": "2018-10-02T00:18:57.442660Z"
    }
   },
   "outputs": [
    {
     "name": "stdout",
     "output_type": "stream",
     "text": [
      "Hello World!\n"
     ]
    }
   ],
   "source": [
    "print('Hello World!')"
   ]
  },
  {
   "cell_type": "markdown",
   "metadata": {},
   "source": [
    "Porém, em jupyter, muitas vezes não é necessário usar a função print, é possível apenas executar a célula (\"Shift-Enter\")"
   ]
  },
  {
   "cell_type": "code",
   "execution_count": 7,
   "metadata": {
    "ExecuteTime": {
     "end_time": "2018-10-18T17:23:16.431718Z",
     "start_time": "2018-10-18T17:23:16.426730Z"
    }
   },
   "outputs": [
    {
     "data": {
      "text/plain": [
       "['Hello World!']"
      ]
     },
     "execution_count": 7,
     "metadata": {},
     "output_type": "execute_result"
    }
   ],
   "source": [
    "A = ['Hello World!']\n",
    "A"
   ]
  },
  {
   "cell_type": "markdown",
   "metadata": {},
   "source": [
    "## Listas"
   ]
  },
  {
   "cell_type": "markdown",
   "metadata": {},
   "source": [
    "Listas são sequências ordenadas de vlaores, é possível manipular uma lista de diferentes formas:"
   ]
  },
  {
   "cell_type": "code",
   "execution_count": 9,
   "metadata": {
    "ExecuteTime": {
     "end_time": "2018-10-18T17:24:03.722354Z",
     "start_time": "2018-10-18T17:24:03.717367Z"
    }
   },
   "outputs": [
    {
     "data": {
      "text/plain": [
       "[1, 2, 3, 4, 5]"
      ]
     },
     "execution_count": 9,
     "metadata": {},
     "output_type": "execute_result"
    }
   ],
   "source": [
    "lista = [1, 2, 3, 4, 5]\n",
    "lista"
   ]
  },
  {
   "cell_type": "code",
   "execution_count": 10,
   "metadata": {
    "ExecuteTime": {
     "end_time": "2018-10-18T17:24:03.732326Z",
     "start_time": "2018-10-18T17:24:03.726376Z"
    }
   },
   "outputs": [
    {
     "data": {
      "text/plain": [
       "2"
      ]
     },
     "execution_count": 10,
     "metadata": {},
     "output_type": "execute_result"
    }
   ],
   "source": [
    "lista[1]"
   ]
  },
  {
   "cell_type": "code",
   "execution_count": 11,
   "metadata": {
    "ExecuteTime": {
     "end_time": "2018-10-18T17:24:03.745354Z",
     "start_time": "2018-10-18T17:24:03.740306Z"
    }
   },
   "outputs": [
    {
     "data": {
      "text/plain": [
       "[1, 2]"
      ]
     },
     "execution_count": 11,
     "metadata": {},
     "output_type": "execute_result"
    }
   ],
   "source": [
    "lista[:2]"
   ]
  },
  {
   "cell_type": "code",
   "execution_count": 21,
   "metadata": {
    "ExecuteTime": {
     "end_time": "2018-10-18T17:27:35.749674Z",
     "start_time": "2018-10-18T17:27:35.744654Z"
    },
    "scrolled": true
   },
   "outputs": [
    {
     "data": {
      "text/plain": [
       "[1, 2, 3, 4, 5, 6]"
      ]
     },
     "execution_count": 21,
     "metadata": {},
     "output_type": "execute_result"
    }
   ],
   "source": [
    "lista = lista + [6]\n",
    "lista"
   ]
  },
  {
   "cell_type": "code",
   "execution_count": 22,
   "metadata": {
    "ExecuteTime": {
     "end_time": "2018-10-18T17:27:36.686156Z",
     "start_time": "2018-10-18T17:27:36.681149Z"
    }
   },
   "outputs": [
    {
     "data": {
      "text/plain": [
       "True"
      ]
     },
     "execution_count": 22,
     "metadata": {},
     "output_type": "execute_result"
    }
   ],
   "source": [
    "lista==[1, 2, 3, 4, 5, 6]"
   ]
  },
  {
   "cell_type": "markdown",
   "metadata": {},
   "source": [
    "## Loops"
   ]
  },
  {
   "cell_type": "markdown",
   "metadata": {},
   "source": [
    "Há duas formas para realizar loops em python. Uma delas é a forma clássica, iniciando um trecho de código que deve ser repetido n vezes. "
   ]
  },
  {
   "cell_type": "markdown",
   "metadata": {},
   "source": [
    "- Adicionar um comentário sobre como contstruir o loop e a identação"
   ]
  },
  {
   "cell_type": "code",
   "execution_count": 31,
   "metadata": {
    "ExecuteTime": {
     "end_time": "2018-10-18T17:32:02.235082Z",
     "start_time": "2018-10-18T17:32:02.231494Z"
    },
    "scrolled": true
   },
   "outputs": [
    {
     "name": "stdout",
     "output_type": "stream",
     "text": [
      "0\n",
      "1\n",
      "2\n",
      "3\n",
      "4\n",
      "5\n"
     ]
    }
   ],
   "source": [
    "for i in range(6):\n",
    "    print(i)"
   ]
  },
  {
   "cell_type": "code",
   "execution_count": 30,
   "metadata": {
    "ExecuteTime": {
     "end_time": "2018-10-18T17:31:59.174858Z",
     "start_time": "2018-10-18T17:31:59.171308Z"
    }
   },
   "outputs": [
    {
     "name": "stdout",
     "output_type": "stream",
     "text": [
      "1\n",
      "2\n",
      "3\n",
      "4\n",
      "5\n",
      "6\n"
     ]
    }
   ],
   "source": [
    "for i in range(6):\n",
    "    print(lista[i])"
   ]
  },
  {
   "cell_type": "markdown",
   "metadata": {},
   "source": [
    "Porém, não é necessário iterar sobre uma sequência de números, podemos iterar sobre cada valor de uma lista:"
   ]
  },
  {
   "cell_type": "code",
   "execution_count": 26,
   "metadata": {
    "ExecuteTime": {
     "end_time": "2018-10-18T17:30:56.306156Z",
     "start_time": "2018-10-18T17:30:56.302168Z"
    },
    "scrolled": true
   },
   "outputs": [
    {
     "name": "stdout",
     "output_type": "stream",
     "text": [
      "1\n",
      "2\n",
      "3\n",
      "4\n",
      "5\n",
      "6\n"
     ]
    }
   ],
   "source": [
    "for i in lista:\n",
    "    print(i)"
   ]
  },
  {
   "cell_type": "markdown",
   "metadata": {},
   "source": [
    "Além disso, a segunda maneira de fazer um loop é compactar ele em uma única linha:"
   ]
  },
  {
   "cell_type": "markdown",
   "metadata": {},
   "source": [
    "## Dicionários"
   ]
  },
  {
   "cell_type": "markdown",
   "metadata": {},
   "source": [
    "Muitas vezes, queremos organizar informações diferentes de um mesmo objeto. Por exemplo tomemos uma lista de propriedades de uma liga metálica qualquer, o alumínio 6061 [[3](#6601)]:\n",
    "\n",
    "\n",
    "| Propriedade | Valor | \n",
    "|-------------|------ | \n",
    "| Dureza Brinell | 93 [-] | \n",
    "| Módulo de Young| 69 [GPa] | \n",
    "| Módulo de Cisalhamento | 26 [GPa] |\n",
    "| Tensão de ruptura | 310 [MPa] |\n",
    "| Temperatura de fusão | 650 [°C] |\n",
    "| Condutividade térmica | 170 [W/(mK)] |\n",
    "| Expansão térmica | 24 [$\\mu$m/m K] |\n",
    "| Propriedade Óticas | Brilhante e opaco |"
   ]
  },
  {
   "cell_type": "code",
   "execution_count": 48,
   "metadata": {
    "ExecuteTime": {
     "end_time": "2018-10-18T17:42:30.257403Z",
     "start_time": "2018-10-18T17:42:30.253416Z"
    }
   },
   "outputs": [],
   "source": [
    "al_6061 = {'Hb':93, 'E':69, 'G':26, 'sigma':310, 'Tm':650, 'k':170,\n",
    "           'alpha':24, 'otics': 'Brilhante e opaco'}"
   ]
  },
  {
   "cell_type": "code",
   "execution_count": 49,
   "metadata": {
    "ExecuteTime": {
     "end_time": "2018-10-18T17:42:30.566626Z",
     "start_time": "2018-10-18T17:42:30.560594Z"
    }
   },
   "outputs": [
    {
     "data": {
      "text/plain": [
       "93"
      ]
     },
     "execution_count": 49,
     "metadata": {},
     "output_type": "execute_result"
    }
   ],
   "source": [
    "al_6061['Hb']"
   ]
  },
  {
   "cell_type": "code",
   "execution_count": 50,
   "metadata": {
    "ExecuteTime": {
     "end_time": "2018-10-18T17:42:32.653996Z",
     "start_time": "2018-10-18T17:42:32.649010Z"
    }
   },
   "outputs": [
    {
     "data": {
      "text/plain": [
       "dict_keys(['Hb', 'E', 'G', 'sigma', 'Tm', 'k', 'alpha', 'otics'])"
      ]
     },
     "execution_count": 50,
     "metadata": {},
     "output_type": "execute_result"
    }
   ],
   "source": [
    "al_6061.keys()"
   ]
  },
  {
   "cell_type": "code",
   "execution_count": 54,
   "metadata": {
    "ExecuteTime": {
     "end_time": "2018-10-18T17:43:08.755316Z",
     "start_time": "2018-10-18T17:43:08.749318Z"
    }
   },
   "outputs": [
    {
     "data": {
      "text/plain": [
       "dict_values([93, 69, 26, 310, 650, 170, 24, 'Brilhante e opaco'])"
      ]
     },
     "execution_count": 54,
     "metadata": {},
     "output_type": "execute_result"
    }
   ],
   "source": [
    "al_6061.values()"
   ]
  },
  {
   "cell_type": "markdown",
   "metadata": {},
   "source": [
    "## Funções"
   ]
  },
  {
   "cell_type": "markdown",
   "metadata": {},
   "source": [
    "Podemos desejar criar uma função, que nada mais é que uma \"máquina\" que você fornece um *input* e ela lhe retorna um *output*.\n",
    "Em python, podemos criar facilmente, tomemos uma função simples, $f(x) = x^2 + x + 5$.\n"
   ]
  },
  {
   "cell_type": "code",
   "execution_count": 55,
   "metadata": {
    "ExecuteTime": {
     "end_time": "2018-10-18T17:45:02.079068Z",
     "start_time": "2018-10-18T17:45:02.075087Z"
    }
   },
   "outputs": [],
   "source": [
    "def f(x):\n",
    "    return x**2+x+5"
   ]
  },
  {
   "cell_type": "code",
   "execution_count": 57,
   "metadata": {
    "ExecuteTime": {
     "end_time": "2018-10-18T17:46:10.473942Z",
     "start_time": "2018-10-18T17:46:10.468175Z"
    }
   },
   "outputs": [
    {
     "data": {
      "text/plain": [
       "11"
      ]
     },
     "execution_count": 57,
     "metadata": {},
     "output_type": "execute_result"
    }
   ],
   "source": [
    "f(2)"
   ]
  },
  {
   "cell_type": "markdown",
   "metadata": {},
   "source": [
    "Podemos ter parâmetros setados em um default numa função, isto é, a menos que o usuário da ferramenta específique, o parâmetro terá um valor específico."
   ]
  },
  {
   "cell_type": "code",
   "execution_count": 58,
   "metadata": {
    "ExecuteTime": {
     "end_time": "2018-10-18T17:47:18.259467Z",
     "start_time": "2018-10-18T17:47:18.255479Z"
    }
   },
   "outputs": [],
   "source": [
    "def f(x, c=5):\n",
    "    return x**2 + x + c"
   ]
  },
  {
   "cell_type": "code",
   "execution_count": 59,
   "metadata": {
    "ExecuteTime": {
     "end_time": "2018-10-18T17:47:25.716528Z",
     "start_time": "2018-10-18T17:47:25.711669Z"
    }
   },
   "outputs": [
    {
     "data": {
      "text/plain": [
       "(11, 6)"
      ]
     },
     "execution_count": 59,
     "metadata": {},
     "output_type": "execute_result"
    }
   ],
   "source": [
    "f(2), f(2, c=0)"
   ]
  },
  {
   "cell_type": "markdown",
   "metadata": {},
   "source": [
    "## Módulos Importantes"
   ]
  },
  {
   "cell_type": "markdown",
   "metadata": {},
   "source": [
    "Em python é possível importar módulos, isso é, trazer funções, variáveis, listas, dicionários e etc, que já estão descritos em um script .py, tais pacotes podem ser instalados facilmente através da interface pip. Porém, para a oficina (que possui um caráter introdutório) apresentaremos alguns dos principais pacotes que muitas vezes já estão inclusive instalados quando se instala o python."
   ]
  },
  {
   "cell_type": "markdown",
   "metadata": {},
   "source": [
    "### Numpy"
   ]
  },
  {
   "cell_type": "markdown",
   "metadata": {},
   "source": [
    "O numpy é a biblioteca responsável pelas funções que manipulam cálculos numéricos. Para tanto, um objeto fundamental é uma lista de números chamada vetor:"
   ]
  },
  {
   "cell_type": "code",
   "execution_count": 2,
   "metadata": {
    "ExecuteTime": {
     "end_time": "2018-10-10T21:40:36.231450Z",
     "start_time": "2018-10-10T21:40:35.846667Z"
    }
   },
   "outputs": [
    {
     "data": {
      "text/plain": [
       "array([1, 2, 3, 4, 5])"
      ]
     },
     "execution_count": 2,
     "metadata": {},
     "output_type": "execute_result"
    }
   ],
   "source": [
    "import numpy as np\n",
    "\n",
    "a = np.array([1, 2, 3, 4, 5])\n",
    "a"
   ]
  },
  {
   "cell_type": "markdown",
   "metadata": {},
   "source": [
    "Observe que durante a importação da libary podemos dar um apelido para que possamos chamar as funções dessa library de maneira mais fácil, no caso, todas as funções da biblioteca numpy devem ser precididas por np.\n",
    "\n",
    "Você poderia achar desnecessário criar um objeto específico para fazer uma lista de números já que o python lhe permite facilmente criar uma lista com a sintaxe [  ] porém, observe que o comportamento de uma array é diferente de uma lista."
   ]
  },
  {
   "cell_type": "code",
   "execution_count": 4,
   "metadata": {
    "ExecuteTime": {
     "end_time": "2018-10-10T21:45:35.596003Z",
     "start_time": "2018-10-10T21:45:35.579709Z"
    }
   },
   "outputs": [
    {
     "name": "stdout",
     "output_type": "stream",
     "text": [
      "[ 6  7  8  9 10]\n"
     ]
    },
    {
     "ename": "NameError",
     "evalue": "name 'a_list' is not defined",
     "output_type": "error",
     "traceback": [
      "\u001b[1;31m---------------------------------------------------------------------------\u001b[0m",
      "\u001b[1;31mNameError\u001b[0m                                 Traceback (most recent call last)",
      "\u001b[1;32m<ipython-input-4-71173443a7f7>\u001b[0m in \u001b[0;36m<module>\u001b[1;34m()\u001b[0m\n\u001b[0;32m      2\u001b[0m \u001b[0ma_lista\u001b[0m \u001b[1;33m=\u001b[0m \u001b[1;33m[\u001b[0m\u001b[1;36m1\u001b[0m\u001b[1;33m,\u001b[0m \u001b[1;36m2\u001b[0m\u001b[1;33m,\u001b[0m \u001b[1;36m3\u001b[0m\u001b[1;33m,\u001b[0m \u001b[1;36m4\u001b[0m\u001b[1;33m,\u001b[0m \u001b[1;36m5\u001b[0m\u001b[1;33m]\u001b[0m\u001b[1;33m\u001b[0m\u001b[0m\n\u001b[0;32m      3\u001b[0m \u001b[0mprint\u001b[0m\u001b[1;33m(\u001b[0m\u001b[0ma_array\u001b[0m \u001b[1;33m+\u001b[0m \u001b[1;36m5\u001b[0m\u001b[1;33m)\u001b[0m\u001b[1;33m\u001b[0m\u001b[0m\n\u001b[1;32m----> 4\u001b[1;33m \u001b[0mprint\u001b[0m\u001b[1;33m(\u001b[0m\u001b[0ma_list\u001b[0m \u001b[1;33m+\u001b[0m \u001b[1;36m5\u001b[0m\u001b[1;33m)\u001b[0m\u001b[1;33m\u001b[0m\u001b[0m\n\u001b[0m",
      "\u001b[1;31mNameError\u001b[0m: name 'a_list' is not defined"
     ]
    }
   ],
   "source": [
    "a_array = np.array([1, 2, 3, 4, 5])\n",
    "a_lista = [1, 2, 3, 4, 5]\n",
    "print(a_array + 5)\n",
    "print(a_list + 5)\n"
   ]
  },
  {
   "cell_type": "markdown",
   "metadata": {},
   "source": [
    "Uma lista só pode ser somada a outra lista. Para adicionar um inteiro nessa lista seria necessário iterar sobre toda lista usando um loop. As arrays nos salvam desse processo tedioso e permite a manipulação de listas de números muito mais facilmente"
   ]
  },
  {
   "cell_type": "markdown",
   "metadata": {},
   "source": [
    "### Matplotlib"
   ]
  },
  {
   "cell_type": "markdown",
   "metadata": {},
   "source": [
    "Aqui, a minha library predileta, matplotlib que permite ao usuário criar gráficos de uma maneira lógica, assertiva e reprodutiva. Além de conferir uma míriade de possibilidades ela permite criar gráficos complexos que muitas vezes necessitariam de opções pagas (como Excel, ou ainda Origin).\n",
    "\n",
    "Talvez esse seja o principal apelo e a melhor maneira de aprender a programar, simplesmente tratando dados e obtendo visualizações de valores numéricos."
   ]
  },
  {
   "cell_type": "code",
   "execution_count": 5,
   "metadata": {
    "ExecuteTime": {
     "end_time": "2018-10-10T21:51:00.926279Z",
     "start_time": "2018-10-10T21:51:00.316927Z"
    }
   },
   "outputs": [],
   "source": [
    "import matplotlib.pyplot as plt"
   ]
  },
  {
   "cell_type": "markdown",
   "metadata": {},
   "source": [
    "Um breve comentário sobre o import, como a biblioteca matplotlib é muito grande (tem um conteúdo de funções muito grande) nós importamos apenas uma parte da bilbioteca. Essa sintaxe do \".\" já foi utilizada quando queríamos acessar funções específicas de uma classe. A idéia aqui é a mesma.\n",
    "\n",
    "Além de importar precisamos adicionar uma linha para garantir que a imagem se forme nessa mesma janela. Para tanto escrevemos:"
   ]
  },
  {
   "cell_type": "code",
   "execution_count": 6,
   "metadata": {
    "ExecuteTime": {
     "end_time": "2018-10-10T21:53:05.537371Z",
     "start_time": "2018-10-10T21:53:05.521417Z"
    }
   },
   "outputs": [],
   "source": [
    "%matplotlib inline"
   ]
  },
  {
   "cell_type": "markdown",
   "metadata": {
    "ExecuteTime": {
     "end_time": "2018-10-10T21:53:43.257240Z",
     "start_time": "2018-10-10T21:53:43.249709Z"
    }
   },
   "source": [
    "O uso do sinal de porcentagem é apenas para indicar que estamos pedindo ao jupyter que as imagens sejam mostradas *\"inline\"*\n",
    "isto é, logo abaixo do trecho de código que chama a imagem."
   ]
  },
  {
   "cell_type": "code",
   "execution_count": 9,
   "metadata": {
    "ExecuteTime": {
     "end_time": "2018-10-10T21:54:46.279297Z",
     "start_time": "2018-10-10T21:54:46.076092Z"
    }
   },
   "outputs": [
    {
     "data": {
      "image/png": "[encoded data removed]",
      "text/plain": [
       "<Figure size 432x288 with 1 Axes>"
      ]
     },
     "metadata": {},
     "output_type": "display_data"
    }
   ],
   "source": [
    "x = np.array([1, 2, 3, 4, 5, 6, 7, 8, 9, 10])\n",
    "plt.plot(x, x**2)\n",
    "\n",
    "plt.show()"
   ]
  },
  {
   "cell_type": "markdown",
   "metadata": {
    "ExecuteTime": {
     "end_time": "2018-10-10T21:55:16.709018Z",
     "start_time": "2018-10-10T21:55:16.702856Z"
    }
   },
   "source": [
    "Há inúmeras opções para se editar um gráfico. Apenas como exemplo, esse mesmo gráfico poderia ser plotado como:"
   ]
  },
  {
   "cell_type": "code",
   "execution_count": 29,
   "metadata": {
    "ExecuteTime": {
     "end_time": "2018-10-10T21:59:05.373100Z",
     "start_time": "2018-10-10T21:59:05.230665Z"
    }
   },
   "outputs": [
    {
     "data": {
      "image/png": "[encoded data removed]",
      "text/plain": [
       "<Figure size 432x288 with 1 Axes>"
      ]
     },
     "metadata": {},
     "output_type": "display_data"
    }
   ],
   "source": [
    "plt.plot(x, x**2, 'o', markerfacecolor='w', c='Navy',\n",
    "         markersize=7, markeredgewidth=3, label='Valores de f(x)')\n",
    "\n",
    "plt.xlabel('x')\n",
    "plt.ylabel('f(x)')\n",
    "plt.xlim(0, 12)\n",
    "plt.ylim(0, 120)\n",
    "\n",
    "\n",
    "plt.legend()\n",
    "\n",
    "plt.grid()\n",
    "plt.show()"
   ]
  },
  {
   "cell_type": "markdown",
   "metadata": {},
   "source": [
    "### Pandas"
   ]
  },
  {
   "cell_type": "markdown",
   "metadata": {},
   "source": [
    "Por fim, uma última biblioteca extremamente interessante é o pandas. Essa biblioteca permite organizar os dados em planilhas. Isso nos facilita a visualização de certos dados. Para tanto iremos voltar ao exemplo da liga de alumínio 6061, Alumina [[4](#Alumina)], Polietileno de alta densidade [[5](#HDPE)] e Vidro de Janela[[6](#Sodalime)]."
   ]
  },
  {
   "cell_type": "code",
   "execution_count": 67,
   "metadata": {
    "ExecuteTime": {
     "end_time": "2018-10-10T22:26:49.189956Z",
     "start_time": "2018-10-10T22:26:49.182005Z"
    }
   },
   "outputs": [],
   "source": [
    "import pandas as pd\n",
    "\n",
    "hk = [112, 1450, 337, 570]\n",
    "E = [69, 370, 1, 70]\n",
    "G = [26, 150, 0.75, 29]\n",
    "sigma_f = [310, 370, 80, 41]\n",
    "T_f = [650, 2040, 130, 570]\n",
    "k = [170, 30, 0.5, 1.1]\n",
    "alpha = [24, 7.3, 120, 9]"
   ]
  },
  {
   "cell_type": "code",
   "execution_count": 93,
   "metadata": {
    "ExecuteTime": {
     "end_time": "2018-10-10T22:33:30.626879Z",
     "start_time": "2018-10-10T22:33:30.612664Z"
    },
    "scrolled": true
   },
   "outputs": [
    {
     "data": {
      "text/html": [
       "<div>\n",
       "<style scoped>\n",
       "    .dataframe tbody tr th:only-of-type {\n",
       "        vertical-align: middle;\n",
       "    }\n",
       "\n",
       "    .dataframe tbody tr th {\n",
       "        vertical-align: top;\n",
       "    }\n",
       "\n",
       "    .dataframe thead th {\n",
       "        text-align: right;\n",
       "    }\n",
       "</style>\n",
       "<table border=\"1\" class=\"dataframe\">\n",
       "  <thead>\n",
       "    <tr style=\"text-align: right;\">\n",
       "      <th></th>\n",
       "      <th>Dureza Knoop</th>\n",
       "      <th>Módulo de Young</th>\n",
       "      <th>Módulo de Cisalhamento</th>\n",
       "      <th>Resistência Mecânica</th>\n",
       "      <th>Temperatura de Fusão/Tg</th>\n",
       "      <th>Condutividade Térmica</th>\n",
       "      <th>Coeficiente de Expansão</th>\n",
       "    </tr>\n",
       "  </thead>\n",
       "  <tbody>\n",
       "    <tr>\n",
       "      <th>Alumínio 6061</th>\n",
       "      <td>112</td>\n",
       "      <td>69</td>\n",
       "      <td>26.00</td>\n",
       "      <td>310</td>\n",
       "      <td>650</td>\n",
       "      <td>170.0</td>\n",
       "      <td>24.0</td>\n",
       "    </tr>\n",
       "    <tr>\n",
       "      <th>Alumina</th>\n",
       "      <td>1450</td>\n",
       "      <td>370</td>\n",
       "      <td>150.00</td>\n",
       "      <td>370</td>\n",
       "      <td>2040</td>\n",
       "      <td>30.0</td>\n",
       "      <td>7.3</td>\n",
       "    </tr>\n",
       "    <tr>\n",
       "      <th>HDPE</th>\n",
       "      <td>337</td>\n",
       "      <td>1</td>\n",
       "      <td>0.75</td>\n",
       "      <td>80</td>\n",
       "      <td>130</td>\n",
       "      <td>0.5</td>\n",
       "      <td>120.0</td>\n",
       "    </tr>\n",
       "    <tr>\n",
       "      <th>Vidro de Janela</th>\n",
       "      <td>570</td>\n",
       "      <td>70</td>\n",
       "      <td>29.00</td>\n",
       "      <td>41</td>\n",
       "      <td>570</td>\n",
       "      <td>1.1</td>\n",
       "      <td>9.0</td>\n",
       "    </tr>\n",
       "  </tbody>\n",
       "</table>\n",
       "</div>"
      ],
      "text/plain": [
       "                 Dureza Knoop  Módulo de Young  Módulo de Cisalhamento  \\\n",
       "Alumínio 6061             112               69                   26.00   \n",
       "Alumina                  1450              370                  150.00   \n",
       "HDPE                      337                1                    0.75   \n",
       "Vidro de Janela           570               70                   29.00   \n",
       "\n",
       "                 Resistência Mecânica  Temperatura de Fusão/Tg  \\\n",
       "Alumínio 6061                     310                      650   \n",
       "Alumina                           370                     2040   \n",
       "HDPE                               80                      130   \n",
       "Vidro de Janela                    41                      570   \n",
       "\n",
       "                 Condutividade Térmica  Coeficiente de Expansão  \n",
       "Alumínio 6061                    170.0                     24.0  \n",
       "Alumina                           30.0                      7.3  \n",
       "HDPE                               0.5                    120.0  \n",
       "Vidro de Janela                    1.1                      9.0  "
      ]
     },
     "execution_count": 93,
     "metadata": {},
     "output_type": "execute_result"
    }
   ],
   "source": [
    "planilha = pd.DataFrame({'Dureza Knoop': hk, 'Módulo de Young': E,\n",
    "                         'Módulo de Cisalhamento': G, \n",
    "                         'Resistência Mecânica': sigma_f,\n",
    "                         'Temperatura de Fusão/Tg': T_f, 'Condutividade Térmica': k,\n",
    "                         'Coeficiente de Expansão': alpha},\n",
    "                        index=['Alumínio 6061', 'Alumina',\n",
    "                               'HDPE', 'Vidro de Janela'])\n",
    "planilha"
   ]
  },
  {
   "cell_type": "code",
   "execution_count": 92,
   "metadata": {
    "ExecuteTime": {
     "end_time": "2018-10-10T22:31:50.214757Z",
     "start_time": "2018-10-10T22:31:49.573438Z"
    }
   },
   "outputs": [
    {
     "data": {
      "image/png": "[encoded data removed]",
      "text/plain": [
       "<Figure size 468x288 with 1 Axes>"
      ]
     },
     "metadata": {},
     "output_type": "display_data"
    }
   ],
   "source": [
    "plt.style.use('seaborn-colorblind')\n",
    "planilha.plot(kind='bar', zorder=3, logy=True, figsize=(6.5, 4))\n",
    "plt.xticks(rotation=0)\n",
    "\n",
    "plt.ylabel('Propriedades [-]')\n",
    "plt.ylim(1, 1e5)\n",
    "plt.legend(loc='upper center', ncol=2)\n",
    "\n",
    "plt.show()"
   ]
  },
  {
   "cell_type": "markdown",
   "metadata": {},
   "source": [
    "# Referências"
   ]
  },
  {
   "cell_type": "markdown",
   "metadata": {},
   "source": [
    "<a name=\"proglit\">1</a>: https://pt.wikipedia.org/wiki/Programa%C3%A7%C3%A3o_liter%C3%A1ria\n",
    "\n",
    "<a name=\"comboy\">2</a>: https://softwareengineering.stackexchange.com/a/7285\n",
    "\n",
    "<a name=\"6601\">3</a>: https://www.makeitfrom.com/material-properties/6061-T6-Aluminum\n",
    "\n",
    "<a name=\"Alumina\">4</a> :https://www.makeitfrom.com/material-properties/99-Percent-Purity-Alumina-ASTM-D2442-Type-IV-IEC-60672-Type-C-799\n",
    "\n",
    "\n",
    "<a name=\"HDPE\">5</a>: http://www.designerdata.nl/plastics/thermo+plastics/HDPE\n",
    "\n",
    "<a name=\"Sodalime\">6</a>: https://www.makeitfrom.com/material-properties/Soda-Lime-Float-Glass"
   ]
  }
 ],
 "metadata": {
  "hide_input": false,
  "kernel_info": {
   "name": "python3"
  },
  "kernelspec": {
   "display_name": "Python 3",
   "language": "python",
   "name": "python3"
  },
  "language_info": {
   "codemirror_mode": {
    "name": "ipython",
    "version": 3
   },
   "file_extension": ".py",
   "mimetype": "text/x-python",
   "name": "python",
   "nbconvert_exporter": "python",
   "pygments_lexer": "ipython3",
   "version": "3.6.5"
  },
  "nteract": {
   "version": "0.9.1"
  },
  "toc": {
   "nav_menu": {},
   "number_sections": true,
   "sideBar": true,
   "skip_h1_title": false,
   "title_cell": "Table of Contents",
   "title_sidebar": "Contents",
   "toc_cell": false,
   "toc_position": {},
   "toc_section_display": true,
   "toc_window_display": false
  },
  "varInspector": {
   "cols": {
    "lenName": 16,
    "lenType": 16,
    "lenVar": 40
   },
   "kernels_config": {
    "python": {
     "delete_cmd_postfix": "",
     "delete_cmd_prefix": "del ",
     "library": "var_list.py",
     "varRefreshCmd": "print(var_dic_list())"
    },
    "r": {
     "delete_cmd_postfix": ") ",
     "delete_cmd_prefix": "rm(",
     "library": "var_list.r",
     "varRefreshCmd": "cat(var_dic_list()) "
    }
   },
   "types_to_exclude": [
    "module",
    "function",
    "builtin_function_or_method",
    "instance",
    "_Feature"
   ],
   "window_display": false
  }
 },
 "nbformat": 4,
 "nbformat_minor": 2
}
